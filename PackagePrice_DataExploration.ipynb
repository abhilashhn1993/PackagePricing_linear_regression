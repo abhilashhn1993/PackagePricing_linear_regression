{
 "cells": [
  {
   "cell_type": "code",
   "execution_count": 48,
   "metadata": {},
   "outputs": [],
   "source": [
    "import pandas as pd\n",
    "import numpy as np\n",
    "import seaborn as sn\n",
    "import matplotlib.pyplot as plt\n",
    "%matplotlib inline\n",
    "import math\n",
    "import scipy as scipy\n",
    "from scipy import stats"
   ]
  },
  {
   "cell_type": "code",
   "execution_count": 49,
   "metadata": {},
   "outputs": [],
   "source": [
    "df = pd.read_excel('MissionHospital_data.xlsx', sheet_name='MH-Modified Data')"
   ]
  },
  {
   "cell_type": "code",
   "execution_count": 50,
   "metadata": {},
   "outputs": [
    {
     "data": {
      "text/plain": [
       "(248, 51)"
      ]
     },
     "execution_count": 50,
     "metadata": {},
     "output_type": "execute_result"
    }
   ],
   "source": [
    "df.shape"
   ]
  },
  {
   "cell_type": "markdown",
   "metadata": {},
   "source": [
    "248 rows and 51 columns in the dataset"
   ]
  },
  {
   "cell_type": "code",
   "execution_count": 51,
   "metadata": {},
   "outputs": [
    {
     "data": {
      "text/html": [
       "<div>\n",
       "<style scoped>\n",
       "    .dataframe tbody tr th:only-of-type {\n",
       "        vertical-align: middle;\n",
       "    }\n",
       "\n",
       "    .dataframe tbody tr th {\n",
       "        vertical-align: top;\n",
       "    }\n",
       "\n",
       "    .dataframe thead th {\n",
       "        text-align: right;\n",
       "    }\n",
       "</style>\n",
       "<table border=\"1\" class=\"dataframe\">\n",
       "  <thead>\n",
       "    <tr style=\"text-align: right;\">\n",
       "      <th></th>\n",
       "      <th>SL.</th>\n",
       "      <th>AGE</th>\n",
       "      <th>GENDER</th>\n",
       "      <th>MALE</th>\n",
       "      <th>MARITAL STATUS</th>\n",
       "      <th>UNMARRIED</th>\n",
       "      <th>KEY COMPLAINTS -CODE</th>\n",
       "      <th>ACHD</th>\n",
       "      <th>CAD-DVD</th>\n",
       "      <th>CAD-SVD</th>\n",
       "      <th>...</th>\n",
       "      <th>TYPE OF ADMSN</th>\n",
       "      <th>ELECTIVE</th>\n",
       "      <th>TOTAL COST TO HOSPITAL</th>\n",
       "      <th>Ln(Total Cost)</th>\n",
       "      <th>TOTAL LENGTH OF STAY</th>\n",
       "      <th>LENGTH OF STAY - ICU</th>\n",
       "      <th>LENGTH OF STAY- WARD</th>\n",
       "      <th>IMPLANT USED (Y/N)</th>\n",
       "      <th>IMPLANT</th>\n",
       "      <th>COST OF IMPLANT</th>\n",
       "    </tr>\n",
       "  </thead>\n",
       "  <tbody>\n",
       "    <tr>\n",
       "      <td>0</td>\n",
       "      <td>1</td>\n",
       "      <td>58.0</td>\n",
       "      <td>M</td>\n",
       "      <td>0</td>\n",
       "      <td>MARRIED</td>\n",
       "      <td>0</td>\n",
       "      <td>other- heart</td>\n",
       "      <td>0</td>\n",
       "      <td>0</td>\n",
       "      <td>0</td>\n",
       "      <td>...</td>\n",
       "      <td>EMERGENCY</td>\n",
       "      <td>0</td>\n",
       "      <td>660293.0</td>\n",
       "      <td>13.400439</td>\n",
       "      <td>25</td>\n",
       "      <td>12</td>\n",
       "      <td>13</td>\n",
       "      <td>Y</td>\n",
       "      <td>1</td>\n",
       "      <td>38000</td>\n",
       "    </tr>\n",
       "    <tr>\n",
       "      <td>1</td>\n",
       "      <td>2</td>\n",
       "      <td>59.0</td>\n",
       "      <td>M</td>\n",
       "      <td>0</td>\n",
       "      <td>MARRIED</td>\n",
       "      <td>0</td>\n",
       "      <td>CAD-DVD</td>\n",
       "      <td>0</td>\n",
       "      <td>1</td>\n",
       "      <td>0</td>\n",
       "      <td>...</td>\n",
       "      <td>EMERGENCY</td>\n",
       "      <td>0</td>\n",
       "      <td>809130.0</td>\n",
       "      <td>13.603715</td>\n",
       "      <td>41</td>\n",
       "      <td>20</td>\n",
       "      <td>21</td>\n",
       "      <td>Y</td>\n",
       "      <td>1</td>\n",
       "      <td>39690</td>\n",
       "    </tr>\n",
       "    <tr>\n",
       "      <td>2</td>\n",
       "      <td>3</td>\n",
       "      <td>82.0</td>\n",
       "      <td>M</td>\n",
       "      <td>0</td>\n",
       "      <td>MARRIED</td>\n",
       "      <td>0</td>\n",
       "      <td>CAD-TVD</td>\n",
       "      <td>0</td>\n",
       "      <td>0</td>\n",
       "      <td>0</td>\n",
       "      <td>...</td>\n",
       "      <td>ELECTIVE</td>\n",
       "      <td>1</td>\n",
       "      <td>362231.0</td>\n",
       "      <td>12.800037</td>\n",
       "      <td>18</td>\n",
       "      <td>9</td>\n",
       "      <td>9</td>\n",
       "      <td>N</td>\n",
       "      <td>0</td>\n",
       "      <td>0</td>\n",
       "    </tr>\n",
       "    <tr>\n",
       "      <td>3</td>\n",
       "      <td>4</td>\n",
       "      <td>46.0</td>\n",
       "      <td>M</td>\n",
       "      <td>0</td>\n",
       "      <td>MARRIED</td>\n",
       "      <td>0</td>\n",
       "      <td>CAD-DVD</td>\n",
       "      <td>0</td>\n",
       "      <td>1</td>\n",
       "      <td>0</td>\n",
       "      <td>...</td>\n",
       "      <td>EMERGENCY</td>\n",
       "      <td>0</td>\n",
       "      <td>629990.0</td>\n",
       "      <td>13.353459</td>\n",
       "      <td>14</td>\n",
       "      <td>13</td>\n",
       "      <td>1</td>\n",
       "      <td>Y</td>\n",
       "      <td>1</td>\n",
       "      <td>89450</td>\n",
       "    </tr>\n",
       "    <tr>\n",
       "      <td>4</td>\n",
       "      <td>5</td>\n",
       "      <td>60.0</td>\n",
       "      <td>M</td>\n",
       "      <td>0</td>\n",
       "      <td>MARRIED</td>\n",
       "      <td>0</td>\n",
       "      <td>CAD-DVD</td>\n",
       "      <td>0</td>\n",
       "      <td>1</td>\n",
       "      <td>0</td>\n",
       "      <td>...</td>\n",
       "      <td>EMERGENCY</td>\n",
       "      <td>0</td>\n",
       "      <td>444876.0</td>\n",
       "      <td>13.005551</td>\n",
       "      <td>24</td>\n",
       "      <td>12</td>\n",
       "      <td>12</td>\n",
       "      <td>N</td>\n",
       "      <td>0</td>\n",
       "      <td>0</td>\n",
       "    </tr>\n",
       "  </tbody>\n",
       "</table>\n",
       "<p>5 rows × 51 columns</p>\n",
       "</div>"
      ],
      "text/plain": [
       "   SL.   AGE GENDER  MALE MARITAL STATUS  UNMARRIED KEY COMPLAINTS -CODE  \\\n",
       "0    1  58.0      M     0        MARRIED          0         other- heart   \n",
       "1    2  59.0      M     0        MARRIED          0              CAD-DVD   \n",
       "2    3  82.0      M     0        MARRIED          0              CAD-TVD   \n",
       "3    4  46.0      M     0        MARRIED          0              CAD-DVD   \n",
       "4    5  60.0      M     0        MARRIED          0              CAD-DVD   \n",
       "\n",
       "   ACHD  CAD-DVD  CAD-SVD  ...  TYPE OF ADMSN  ELECTIVE  \\\n",
       "0     0        0        0  ...      EMERGENCY         0   \n",
       "1     0        1        0  ...      EMERGENCY         0   \n",
       "2     0        0        0  ...       ELECTIVE         1   \n",
       "3     0        1        0  ...      EMERGENCY         0   \n",
       "4     0        1        0  ...      EMERGENCY         0   \n",
       "\n",
       "   TOTAL COST TO HOSPITAL   Ln(Total Cost)  TOTAL LENGTH OF STAY  \\\n",
       "0                 660293.0       13.400439                    25   \n",
       "1                 809130.0       13.603715                    41   \n",
       "2                 362231.0       12.800037                    18   \n",
       "3                 629990.0       13.353459                    14   \n",
       "4                 444876.0       13.005551                    24   \n",
       "\n",
       "   LENGTH OF STAY - ICU  LENGTH OF STAY- WARD  IMPLANT USED (Y/N)  IMPLANT   \\\n",
       "0                    12                    13                   Y         1   \n",
       "1                    20                    21                   Y         1   \n",
       "2                     9                     9                   N         0   \n",
       "3                    13                     1                   Y         1   \n",
       "4                    12                    12                   N         0   \n",
       "\n",
       "   COST OF IMPLANT  \n",
       "0            38000  \n",
       "1            39690  \n",
       "2                0  \n",
       "3            89450  \n",
       "4                0  \n",
       "\n",
       "[5 rows x 51 columns]"
      ]
     },
     "execution_count": 51,
     "metadata": {},
     "output_type": "execute_result"
    }
   ],
   "source": [
    "df.head()"
   ]
  },
  {
   "cell_type": "markdown",
   "metadata": {},
   "source": [
    "Renaming the columns by removing the blank spaces"
   ]
  },
  {
   "cell_type": "code",
   "execution_count": 52,
   "metadata": {},
   "outputs": [],
   "source": [
    "df.columns = df.columns.str.replace(' ', '_')\n",
    "df.columns = df.columns.str.replace('-', '_')"
   ]
  },
  {
   "cell_type": "code",
   "execution_count": 53,
   "metadata": {},
   "outputs": [
    {
     "name": "stdout",
     "output_type": "stream",
     "text": [
      "<class 'pandas.core.frame.DataFrame'>\n",
      "RangeIndex: 248 entries, 0 to 247\n",
      "Data columns (total 51 columns):\n",
      "SL.                             248 non-null int64\n",
      "AGE                             248 non-null float64\n",
      "GENDER                          248 non-null object\n",
      "MALE                            248 non-null int64\n",
      "MARITAL_STATUS                  248 non-null object\n",
      "UNMARRIED                       248 non-null int64\n",
      "KEY_COMPLAINTS__CODE            212 non-null object\n",
      "ACHD                            248 non-null int64\n",
      "CAD_DVD                         248 non-null int64\n",
      "CAD_SVD                         248 non-null int64\n",
      "CAD_TVD                         248 non-null int64\n",
      "CAD_VSD                         248 non-null int64\n",
      "OS_ASD                          248 non-null int64\n",
      "other__heart                    248 non-null int64\n",
      "other__respiratory              248 non-null int64\n",
      "other_general                   248 non-null int64\n",
      "other_nervous                   248 non-null int64\n",
      "other_tertalogy                 248 non-null int64\n",
      "PM_VSD                          248 non-null int64\n",
      "RHD                             248 non-null int64\n",
      "BODY_WEIGHT                     248 non-null float64\n",
      "BODY_HEIGHT                     248 non-null int64\n",
      "HR_PULSE                        248 non-null int64\n",
      "BP__HIGH                        225 non-null float64\n",
      "BP_LOW                          225 non-null float64\n",
      "RR                              248 non-null int64\n",
      "PAST_MEDICAL_HISTORY_CODE       75 non-null object\n",
      "Diabetes1                       248 non-null int64\n",
      "Diabetes2                       248 non-null int64\n",
      "hypertension1                   248 non-null int64\n",
      "hypertension2                   248 non-null int64\n",
      "hypertension3                   248 non-null int64\n",
      "other                           248 non-null int64\n",
      "HB                              246 non-null float64\n",
      "UREA                            235 non-null float64\n",
      "CREATININE                      215 non-null float64\n",
      "MODE_OF_ARRIVAL                 248 non-null object\n",
      "AMBULANCE                       248 non-null int64\n",
      "TRANSFERRED                     248 non-null int64\n",
      "STATE_AT_THE_TIME_OF_ARRIVAL    248 non-null object\n",
      "ALERT                           248 non-null int64\n",
      "TYPE_OF_ADMSN                   248 non-null object\n",
      "ELECTIVE                        248 non-null int64\n",
      "TOTAL_COST_TO_HOSPITAL_         248 non-null float64\n",
      "Ln(Total_Cost)                  248 non-null float64\n",
      "TOTAL_LENGTH_OF_STAY            248 non-null int64\n",
      "LENGTH_OF_STAY___ICU            248 non-null int64\n",
      "LENGTH_OF_STAY__WARD            248 non-null int64\n",
      "IMPLANT_USED_(Y/N)              248 non-null object\n",
      "IMPLANT_                        248 non-null int64\n",
      "COST_OF_IMPLANT                 248 non-null int64\n",
      "dtypes: float64(9), int64(34), object(8)\n",
      "memory usage: 98.9+ KB\n"
     ]
    }
   ],
   "source": [
    "df.info()"
   ]
  },
  {
   "cell_type": "code",
   "execution_count": 54,
   "metadata": {},
   "outputs": [],
   "source": [
    "df = df.rename(columns={\"KEY_COMPLAINTS__CODE\": \"KEY_COMPLAINTS_CODE\", \"other__heart\": \"other_heart\",\n",
    "                        \"other__respiratory\":\"other_respiratory\",\"BP__HIGH\": \"BP_HIGH\",\n",
    "                        \"other__heart\" : \"other_heart\",\n",
    "                        \"Ln(Total_Cost)\": \"ln_total_cost\",\"TOTAL_COST_TO_HOSPITAL_\":\"TOTAL_COST_TO_HOSPITAL\",\n",
    "                       \"LENGTH_OF_STAY__ICU\" : \"LENGTH_OF_STAY_ICU\",\"IMPLANT_USED_(Y/N)\" : \"IMPLANT_USED\",\"IMPLANT_\" : \"IMPLANT\"})"
   ]
  },
  {
   "cell_type": "code",
   "execution_count": 55,
   "metadata": {},
   "outputs": [],
   "source": [
    "df.columns = map(str.lower, df.columns)"
   ]
  },
  {
   "cell_type": "markdown",
   "metadata": {},
   "source": [
    "Now, we have all the column names sorted we go ahead with data exploration"
   ]
  },
  {
   "cell_type": "markdown",
   "metadata": {},
   "source": [
    "# Data Exploration"
   ]
  },
  {
   "cell_type": "code",
   "execution_count": 56,
   "metadata": {},
   "outputs": [
    {
     "data": {
      "text/plain": [
       "(248, 51)"
      ]
     },
     "execution_count": 56,
     "metadata": {},
     "output_type": "execute_result"
    }
   ],
   "source": [
    "df.shape"
   ]
  },
  {
   "cell_type": "code",
   "execution_count": 57,
   "metadata": {},
   "outputs": [
    {
     "data": {
      "text/html": [
       "<div>\n",
       "<style scoped>\n",
       "    .dataframe tbody tr th:only-of-type {\n",
       "        vertical-align: middle;\n",
       "    }\n",
       "\n",
       "    .dataframe tbody tr th {\n",
       "        vertical-align: top;\n",
       "    }\n",
       "\n",
       "    .dataframe thead th {\n",
       "        text-align: right;\n",
       "    }\n",
       "</style>\n",
       "<table border=\"1\" class=\"dataframe\">\n",
       "  <thead>\n",
       "    <tr style=\"text-align: right;\">\n",
       "      <th></th>\n",
       "      <th>sl.</th>\n",
       "      <th>age</th>\n",
       "      <th>male</th>\n",
       "      <th>unmarried</th>\n",
       "      <th>achd</th>\n",
       "      <th>cad_dvd</th>\n",
       "      <th>cad_svd</th>\n",
       "      <th>cad_tvd</th>\n",
       "      <th>cad_vsd</th>\n",
       "      <th>os_asd</th>\n",
       "      <th>...</th>\n",
       "      <th>transferred</th>\n",
       "      <th>alert</th>\n",
       "      <th>elective</th>\n",
       "      <th>total_cost_to_hospital</th>\n",
       "      <th>ln_total_cost</th>\n",
       "      <th>total_length_of_stay</th>\n",
       "      <th>length_of_stay___icu</th>\n",
       "      <th>length_of_stay__ward</th>\n",
       "      <th>implant</th>\n",
       "      <th>cost_of_implant</th>\n",
       "    </tr>\n",
       "  </thead>\n",
       "  <tbody>\n",
       "    <tr>\n",
       "      <td>count</td>\n",
       "      <td>248.000000</td>\n",
       "      <td>248.000000</td>\n",
       "      <td>248.000000</td>\n",
       "      <td>248.000000</td>\n",
       "      <td>248.000000</td>\n",
       "      <td>248.000000</td>\n",
       "      <td>248.000000</td>\n",
       "      <td>248.000000</td>\n",
       "      <td>248.000000</td>\n",
       "      <td>248.000000</td>\n",
       "      <td>...</td>\n",
       "      <td>248.000000</td>\n",
       "      <td>248.000000</td>\n",
       "      <td>248.000000</td>\n",
       "      <td>248.000000</td>\n",
       "      <td>248.000000</td>\n",
       "      <td>248.000000</td>\n",
       "      <td>248.000000</td>\n",
       "      <td>248.000000</td>\n",
       "      <td>248.000000</td>\n",
       "      <td>248.000000</td>\n",
       "    </tr>\n",
       "    <tr>\n",
       "      <td>mean</td>\n",
       "      <td>124.500000</td>\n",
       "      <td>28.879837</td>\n",
       "      <td>0.330645</td>\n",
       "      <td>0.564516</td>\n",
       "      <td>0.076613</td>\n",
       "      <td>0.108871</td>\n",
       "      <td>0.008065</td>\n",
       "      <td>0.096774</td>\n",
       "      <td>0.004032</td>\n",
       "      <td>0.060484</td>\n",
       "      <td>...</td>\n",
       "      <td>0.016129</td>\n",
       "      <td>0.995968</td>\n",
       "      <td>0.870968</td>\n",
       "      <td>198723.330282</td>\n",
       "      <td>12.062084</td>\n",
       "      <td>11.612903</td>\n",
       "      <td>3.475806</td>\n",
       "      <td>8.153226</td>\n",
       "      <td>0.197581</td>\n",
       "      <td>8544.201613</td>\n",
       "    </tr>\n",
       "    <tr>\n",
       "      <td>std</td>\n",
       "      <td>71.735626</td>\n",
       "      <td>25.899359</td>\n",
       "      <td>0.471397</td>\n",
       "      <td>0.496823</td>\n",
       "      <td>0.266514</td>\n",
       "      <td>0.312107</td>\n",
       "      <td>0.089621</td>\n",
       "      <td>0.296248</td>\n",
       "      <td>0.063500</td>\n",
       "      <td>0.238863</td>\n",
       "      <td>...</td>\n",
       "      <td>0.126227</td>\n",
       "      <td>0.063500</td>\n",
       "      <td>0.335914</td>\n",
       "      <td>122587.492984</td>\n",
       "      <td>0.505390</td>\n",
       "      <td>5.392617</td>\n",
       "      <td>3.853520</td>\n",
       "      <td>3.755793</td>\n",
       "      <td>0.398979</td>\n",
       "      <td>21521.877503</td>\n",
       "    </tr>\n",
       "    <tr>\n",
       "      <td>min</td>\n",
       "      <td>1.000000</td>\n",
       "      <td>0.032877</td>\n",
       "      <td>0.000000</td>\n",
       "      <td>0.000000</td>\n",
       "      <td>0.000000</td>\n",
       "      <td>0.000000</td>\n",
       "      <td>0.000000</td>\n",
       "      <td>0.000000</td>\n",
       "      <td>0.000000</td>\n",
       "      <td>0.000000</td>\n",
       "      <td>...</td>\n",
       "      <td>0.000000</td>\n",
       "      <td>0.000000</td>\n",
       "      <td>0.000000</td>\n",
       "      <td>46093.000000</td>\n",
       "      <td>10.738416</td>\n",
       "      <td>3.000000</td>\n",
       "      <td>0.000000</td>\n",
       "      <td>0.000000</td>\n",
       "      <td>0.000000</td>\n",
       "      <td>0.000000</td>\n",
       "    </tr>\n",
       "    <tr>\n",
       "      <td>25%</td>\n",
       "      <td>62.750000</td>\n",
       "      <td>6.000000</td>\n",
       "      <td>0.000000</td>\n",
       "      <td>0.000000</td>\n",
       "      <td>0.000000</td>\n",
       "      <td>0.000000</td>\n",
       "      <td>0.000000</td>\n",
       "      <td>0.000000</td>\n",
       "      <td>0.000000</td>\n",
       "      <td>0.000000</td>\n",
       "      <td>...</td>\n",
       "      <td>0.000000</td>\n",
       "      <td>1.000000</td>\n",
       "      <td>1.000000</td>\n",
       "      <td>131652.750000</td>\n",
       "      <td>11.787923</td>\n",
       "      <td>8.000000</td>\n",
       "      <td>1.000000</td>\n",
       "      <td>6.000000</td>\n",
       "      <td>0.000000</td>\n",
       "      <td>0.000000</td>\n",
       "    </tr>\n",
       "    <tr>\n",
       "      <td>50%</td>\n",
       "      <td>124.500000</td>\n",
       "      <td>15.500000</td>\n",
       "      <td>0.000000</td>\n",
       "      <td>1.000000</td>\n",
       "      <td>0.000000</td>\n",
       "      <td>0.000000</td>\n",
       "      <td>0.000000</td>\n",
       "      <td>0.000000</td>\n",
       "      <td>0.000000</td>\n",
       "      <td>0.000000</td>\n",
       "      <td>...</td>\n",
       "      <td>0.000000</td>\n",
       "      <td>1.000000</td>\n",
       "      <td>1.000000</td>\n",
       "      <td>162660.500000</td>\n",
       "      <td>11.999419</td>\n",
       "      <td>10.000000</td>\n",
       "      <td>2.000000</td>\n",
       "      <td>7.000000</td>\n",
       "      <td>0.000000</td>\n",
       "      <td>0.000000</td>\n",
       "    </tr>\n",
       "    <tr>\n",
       "      <td>75%</td>\n",
       "      <td>186.250000</td>\n",
       "      <td>55.000000</td>\n",
       "      <td>1.000000</td>\n",
       "      <td>1.000000</td>\n",
       "      <td>0.000000</td>\n",
       "      <td>0.000000</td>\n",
       "      <td>0.000000</td>\n",
       "      <td>0.000000</td>\n",
       "      <td>0.000000</td>\n",
       "      <td>0.000000</td>\n",
       "      <td>...</td>\n",
       "      <td>0.000000</td>\n",
       "      <td>1.000000</td>\n",
       "      <td>1.000000</td>\n",
       "      <td>220614.000000</td>\n",
       "      <td>12.304170</td>\n",
       "      <td>13.000000</td>\n",
       "      <td>4.000000</td>\n",
       "      <td>10.000000</td>\n",
       "      <td>0.000000</td>\n",
       "      <td>0.000000</td>\n",
       "    </tr>\n",
       "    <tr>\n",
       "      <td>max</td>\n",
       "      <td>248.000000</td>\n",
       "      <td>88.000000</td>\n",
       "      <td>1.000000</td>\n",
       "      <td>1.000000</td>\n",
       "      <td>1.000000</td>\n",
       "      <td>1.000000</td>\n",
       "      <td>1.000000</td>\n",
       "      <td>1.000000</td>\n",
       "      <td>1.000000</td>\n",
       "      <td>1.000000</td>\n",
       "      <td>...</td>\n",
       "      <td>1.000000</td>\n",
       "      <td>1.000000</td>\n",
       "      <td>1.000000</td>\n",
       "      <td>887350.000000</td>\n",
       "      <td>13.695995</td>\n",
       "      <td>41.000000</td>\n",
       "      <td>30.000000</td>\n",
       "      <td>22.000000</td>\n",
       "      <td>1.000000</td>\n",
       "      <td>196848.000000</td>\n",
       "    </tr>\n",
       "  </tbody>\n",
       "</table>\n",
       "<p>8 rows × 43 columns</p>\n",
       "</div>"
      ],
      "text/plain": [
       "              sl.         age        male   unmarried        achd     cad_dvd  \\\n",
       "count  248.000000  248.000000  248.000000  248.000000  248.000000  248.000000   \n",
       "mean   124.500000   28.879837    0.330645    0.564516    0.076613    0.108871   \n",
       "std     71.735626   25.899359    0.471397    0.496823    0.266514    0.312107   \n",
       "min      1.000000    0.032877    0.000000    0.000000    0.000000    0.000000   \n",
       "25%     62.750000    6.000000    0.000000    0.000000    0.000000    0.000000   \n",
       "50%    124.500000   15.500000    0.000000    1.000000    0.000000    0.000000   \n",
       "75%    186.250000   55.000000    1.000000    1.000000    0.000000    0.000000   \n",
       "max    248.000000   88.000000    1.000000    1.000000    1.000000    1.000000   \n",
       "\n",
       "          cad_svd     cad_tvd     cad_vsd      os_asd  ...  transferred  \\\n",
       "count  248.000000  248.000000  248.000000  248.000000  ...   248.000000   \n",
       "mean     0.008065    0.096774    0.004032    0.060484  ...     0.016129   \n",
       "std      0.089621    0.296248    0.063500    0.238863  ...     0.126227   \n",
       "min      0.000000    0.000000    0.000000    0.000000  ...     0.000000   \n",
       "25%      0.000000    0.000000    0.000000    0.000000  ...     0.000000   \n",
       "50%      0.000000    0.000000    0.000000    0.000000  ...     0.000000   \n",
       "75%      0.000000    0.000000    0.000000    0.000000  ...     0.000000   \n",
       "max      1.000000    1.000000    1.000000    1.000000  ...     1.000000   \n",
       "\n",
       "            alert    elective  total_cost_to_hospital  ln_total_cost  \\\n",
       "count  248.000000  248.000000              248.000000     248.000000   \n",
       "mean     0.995968    0.870968           198723.330282      12.062084   \n",
       "std      0.063500    0.335914           122587.492984       0.505390   \n",
       "min      0.000000    0.000000            46093.000000      10.738416   \n",
       "25%      1.000000    1.000000           131652.750000      11.787923   \n",
       "50%      1.000000    1.000000           162660.500000      11.999419   \n",
       "75%      1.000000    1.000000           220614.000000      12.304170   \n",
       "max      1.000000    1.000000           887350.000000      13.695995   \n",
       "\n",
       "       total_length_of_stay  length_of_stay___icu  length_of_stay__ward  \\\n",
       "count            248.000000            248.000000            248.000000   \n",
       "mean              11.612903              3.475806              8.153226   \n",
       "std                5.392617              3.853520              3.755793   \n",
       "min                3.000000              0.000000              0.000000   \n",
       "25%                8.000000              1.000000              6.000000   \n",
       "50%               10.000000              2.000000              7.000000   \n",
       "75%               13.000000              4.000000             10.000000   \n",
       "max               41.000000             30.000000             22.000000   \n",
       "\n",
       "          implant  cost_of_implant  \n",
       "count  248.000000       248.000000  \n",
       "mean     0.197581      8544.201613  \n",
       "std      0.398979     21521.877503  \n",
       "min      0.000000         0.000000  \n",
       "25%      0.000000         0.000000  \n",
       "50%      0.000000         0.000000  \n",
       "75%      0.000000         0.000000  \n",
       "max      1.000000    196848.000000  \n",
       "\n",
       "[8 rows x 43 columns]"
      ]
     },
     "execution_count": 57,
     "metadata": {},
     "output_type": "execute_result"
    }
   ],
   "source": [
    "df.describe()"
   ]
  },
  {
   "cell_type": "code",
   "execution_count": 58,
   "metadata": {},
   "outputs": [
    {
     "name": "stdout",
     "output_type": "stream",
     "text": [
      "number of duplicate rows: (0, 51)\n"
     ]
    }
   ],
   "source": [
    "#Check for duplicate rows in the dataset\n",
    "duplicate_rows_df = df[df.duplicated()]\n",
    "print(\"number of duplicate rows:\" , duplicate_rows_df.shape)"
   ]
  },
  {
   "cell_type": "code",
   "execution_count": 59,
   "metadata": {},
   "outputs": [],
   "source": [
    "#Now, we remove the unneccessary columns like sl. , gender, marital_status and other redundant columns from the dataset\n",
    "df = df.drop(['sl.','gender','marital_status','key_complaints_code','past_medical_history_code','mode_of_arrival',\n",
    "             'state_at_the_time_of_arrival','type_of_admsn','implant_used'], axis=1)"
   ]
  },
  {
   "cell_type": "code",
   "execution_count": 60,
   "metadata": {},
   "outputs": [
    {
     "data": {
      "text/plain": [
       "(248, 42)"
      ]
     },
     "execution_count": 60,
     "metadata": {},
     "output_type": "execute_result"
    }
   ],
   "source": [
    "df.shape"
   ]
  },
  {
   "cell_type": "code",
   "execution_count": 61,
   "metadata": {},
   "outputs": [
    {
     "data": {
      "text/plain": [
       "age                       float64\n",
       "male                        int64\n",
       "unmarried                   int64\n",
       "achd                        int64\n",
       "cad_dvd                     int64\n",
       "cad_svd                     int64\n",
       "cad_tvd                     int64\n",
       "cad_vsd                     int64\n",
       "os_asd                      int64\n",
       "other_heart                 int64\n",
       "other_respiratory           int64\n",
       "other_general               int64\n",
       "other_nervous               int64\n",
       "other_tertalogy             int64\n",
       "pm_vsd                      int64\n",
       "rhd                         int64\n",
       "body_weight               float64\n",
       "body_height                 int64\n",
       "hr_pulse                    int64\n",
       "bp_high                   float64\n",
       "bp_low                    float64\n",
       "rr                          int64\n",
       "diabetes1                   int64\n",
       "diabetes2                   int64\n",
       "hypertension1               int64\n",
       "hypertension2               int64\n",
       "hypertension3               int64\n",
       "other                       int64\n",
       "hb                        float64\n",
       "urea                      float64\n",
       "creatinine                float64\n",
       "ambulance                   int64\n",
       "transferred                 int64\n",
       "alert                       int64\n",
       "elective                    int64\n",
       "total_cost_to_hospital    float64\n",
       "ln_total_cost             float64\n",
       "total_length_of_stay        int64\n",
       "length_of_stay___icu        int64\n",
       "length_of_stay__ward        int64\n",
       "implant                     int64\n",
       "cost_of_implant             int64\n",
       "dtype: object"
      ]
     },
     "execution_count": 61,
     "metadata": {},
     "output_type": "execute_result"
    }
   ],
   "source": [
    "#Now, we check and modify the data types of the columns\n",
    "df.dtypes"
   ]
  },
  {
   "cell_type": "code",
   "execution_count": 62,
   "metadata": {},
   "outputs": [
    {
     "data": {
      "text/html": [
       "<div>\n",
       "<style scoped>\n",
       "    .dataframe tbody tr th:only-of-type {\n",
       "        vertical-align: middle;\n",
       "    }\n",
       "\n",
       "    .dataframe tbody tr th {\n",
       "        vertical-align: top;\n",
       "    }\n",
       "\n",
       "    .dataframe thead th {\n",
       "        text-align: right;\n",
       "    }\n",
       "</style>\n",
       "<table border=\"1\" class=\"dataframe\">\n",
       "  <thead>\n",
       "    <tr style=\"text-align: right;\">\n",
       "      <th></th>\n",
       "      <th>age</th>\n",
       "      <th>male</th>\n",
       "      <th>unmarried</th>\n",
       "      <th>achd</th>\n",
       "      <th>cad_dvd</th>\n",
       "      <th>cad_svd</th>\n",
       "      <th>cad_tvd</th>\n",
       "      <th>cad_vsd</th>\n",
       "      <th>os_asd</th>\n",
       "      <th>other_heart</th>\n",
       "      <th>...</th>\n",
       "      <th>transferred</th>\n",
       "      <th>alert</th>\n",
       "      <th>elective</th>\n",
       "      <th>total_cost_to_hospital</th>\n",
       "      <th>ln_total_cost</th>\n",
       "      <th>total_length_of_stay</th>\n",
       "      <th>length_of_stay___icu</th>\n",
       "      <th>length_of_stay__ward</th>\n",
       "      <th>implant</th>\n",
       "      <th>cost_of_implant</th>\n",
       "    </tr>\n",
       "  </thead>\n",
       "  <tbody>\n",
       "    <tr>\n",
       "      <td>count</td>\n",
       "      <td>248.000000</td>\n",
       "      <td>248.000000</td>\n",
       "      <td>248.000000</td>\n",
       "      <td>248.000000</td>\n",
       "      <td>248.000000</td>\n",
       "      <td>248.000000</td>\n",
       "      <td>248.000000</td>\n",
       "      <td>248.000000</td>\n",
       "      <td>248.000000</td>\n",
       "      <td>248.000000</td>\n",
       "      <td>...</td>\n",
       "      <td>248.000000</td>\n",
       "      <td>248.000000</td>\n",
       "      <td>248.000000</td>\n",
       "      <td>248.000000</td>\n",
       "      <td>248.000000</td>\n",
       "      <td>248.000000</td>\n",
       "      <td>248.000000</td>\n",
       "      <td>248.000000</td>\n",
       "      <td>248.000000</td>\n",
       "      <td>248.000000</td>\n",
       "    </tr>\n",
       "    <tr>\n",
       "      <td>mean</td>\n",
       "      <td>28.879837</td>\n",
       "      <td>0.330645</td>\n",
       "      <td>0.564516</td>\n",
       "      <td>0.076613</td>\n",
       "      <td>0.108871</td>\n",
       "      <td>0.008065</td>\n",
       "      <td>0.096774</td>\n",
       "      <td>0.004032</td>\n",
       "      <td>0.060484</td>\n",
       "      <td>0.221774</td>\n",
       "      <td>...</td>\n",
       "      <td>0.016129</td>\n",
       "      <td>0.995968</td>\n",
       "      <td>0.870968</td>\n",
       "      <td>198723.330282</td>\n",
       "      <td>12.062084</td>\n",
       "      <td>11.612903</td>\n",
       "      <td>3.475806</td>\n",
       "      <td>8.153226</td>\n",
       "      <td>0.197581</td>\n",
       "      <td>8544.201613</td>\n",
       "    </tr>\n",
       "    <tr>\n",
       "      <td>std</td>\n",
       "      <td>25.899359</td>\n",
       "      <td>0.471397</td>\n",
       "      <td>0.496823</td>\n",
       "      <td>0.266514</td>\n",
       "      <td>0.312107</td>\n",
       "      <td>0.089621</td>\n",
       "      <td>0.296248</td>\n",
       "      <td>0.063500</td>\n",
       "      <td>0.238863</td>\n",
       "      <td>0.416280</td>\n",
       "      <td>...</td>\n",
       "      <td>0.126227</td>\n",
       "      <td>0.063500</td>\n",
       "      <td>0.335914</td>\n",
       "      <td>122587.492984</td>\n",
       "      <td>0.505390</td>\n",
       "      <td>5.392617</td>\n",
       "      <td>3.853520</td>\n",
       "      <td>3.755793</td>\n",
       "      <td>0.398979</td>\n",
       "      <td>21521.877503</td>\n",
       "    </tr>\n",
       "    <tr>\n",
       "      <td>min</td>\n",
       "      <td>0.032877</td>\n",
       "      <td>0.000000</td>\n",
       "      <td>0.000000</td>\n",
       "      <td>0.000000</td>\n",
       "      <td>0.000000</td>\n",
       "      <td>0.000000</td>\n",
       "      <td>0.000000</td>\n",
       "      <td>0.000000</td>\n",
       "      <td>0.000000</td>\n",
       "      <td>0.000000</td>\n",
       "      <td>...</td>\n",
       "      <td>0.000000</td>\n",
       "      <td>0.000000</td>\n",
       "      <td>0.000000</td>\n",
       "      <td>46093.000000</td>\n",
       "      <td>10.738416</td>\n",
       "      <td>3.000000</td>\n",
       "      <td>0.000000</td>\n",
       "      <td>0.000000</td>\n",
       "      <td>0.000000</td>\n",
       "      <td>0.000000</td>\n",
       "    </tr>\n",
       "    <tr>\n",
       "      <td>25%</td>\n",
       "      <td>6.000000</td>\n",
       "      <td>0.000000</td>\n",
       "      <td>0.000000</td>\n",
       "      <td>0.000000</td>\n",
       "      <td>0.000000</td>\n",
       "      <td>0.000000</td>\n",
       "      <td>0.000000</td>\n",
       "      <td>0.000000</td>\n",
       "      <td>0.000000</td>\n",
       "      <td>0.000000</td>\n",
       "      <td>...</td>\n",
       "      <td>0.000000</td>\n",
       "      <td>1.000000</td>\n",
       "      <td>1.000000</td>\n",
       "      <td>131652.750000</td>\n",
       "      <td>11.787923</td>\n",
       "      <td>8.000000</td>\n",
       "      <td>1.000000</td>\n",
       "      <td>6.000000</td>\n",
       "      <td>0.000000</td>\n",
       "      <td>0.000000</td>\n",
       "    </tr>\n",
       "    <tr>\n",
       "      <td>50%</td>\n",
       "      <td>15.500000</td>\n",
       "      <td>0.000000</td>\n",
       "      <td>1.000000</td>\n",
       "      <td>0.000000</td>\n",
       "      <td>0.000000</td>\n",
       "      <td>0.000000</td>\n",
       "      <td>0.000000</td>\n",
       "      <td>0.000000</td>\n",
       "      <td>0.000000</td>\n",
       "      <td>0.000000</td>\n",
       "      <td>...</td>\n",
       "      <td>0.000000</td>\n",
       "      <td>1.000000</td>\n",
       "      <td>1.000000</td>\n",
       "      <td>162660.500000</td>\n",
       "      <td>11.999419</td>\n",
       "      <td>10.000000</td>\n",
       "      <td>2.000000</td>\n",
       "      <td>7.000000</td>\n",
       "      <td>0.000000</td>\n",
       "      <td>0.000000</td>\n",
       "    </tr>\n",
       "    <tr>\n",
       "      <td>75%</td>\n",
       "      <td>55.000000</td>\n",
       "      <td>1.000000</td>\n",
       "      <td>1.000000</td>\n",
       "      <td>0.000000</td>\n",
       "      <td>0.000000</td>\n",
       "      <td>0.000000</td>\n",
       "      <td>0.000000</td>\n",
       "      <td>0.000000</td>\n",
       "      <td>0.000000</td>\n",
       "      <td>0.000000</td>\n",
       "      <td>...</td>\n",
       "      <td>0.000000</td>\n",
       "      <td>1.000000</td>\n",
       "      <td>1.000000</td>\n",
       "      <td>220614.000000</td>\n",
       "      <td>12.304170</td>\n",
       "      <td>13.000000</td>\n",
       "      <td>4.000000</td>\n",
       "      <td>10.000000</td>\n",
       "      <td>0.000000</td>\n",
       "      <td>0.000000</td>\n",
       "    </tr>\n",
       "    <tr>\n",
       "      <td>max</td>\n",
       "      <td>88.000000</td>\n",
       "      <td>1.000000</td>\n",
       "      <td>1.000000</td>\n",
       "      <td>1.000000</td>\n",
       "      <td>1.000000</td>\n",
       "      <td>1.000000</td>\n",
       "      <td>1.000000</td>\n",
       "      <td>1.000000</td>\n",
       "      <td>1.000000</td>\n",
       "      <td>1.000000</td>\n",
       "      <td>...</td>\n",
       "      <td>1.000000</td>\n",
       "      <td>1.000000</td>\n",
       "      <td>1.000000</td>\n",
       "      <td>887350.000000</td>\n",
       "      <td>13.695995</td>\n",
       "      <td>41.000000</td>\n",
       "      <td>30.000000</td>\n",
       "      <td>22.000000</td>\n",
       "      <td>1.000000</td>\n",
       "      <td>196848.000000</td>\n",
       "    </tr>\n",
       "  </tbody>\n",
       "</table>\n",
       "<p>8 rows × 42 columns</p>\n",
       "</div>"
      ],
      "text/plain": [
       "              age        male   unmarried        achd     cad_dvd     cad_svd  \\\n",
       "count  248.000000  248.000000  248.000000  248.000000  248.000000  248.000000   \n",
       "mean    28.879837    0.330645    0.564516    0.076613    0.108871    0.008065   \n",
       "std     25.899359    0.471397    0.496823    0.266514    0.312107    0.089621   \n",
       "min      0.032877    0.000000    0.000000    0.000000    0.000000    0.000000   \n",
       "25%      6.000000    0.000000    0.000000    0.000000    0.000000    0.000000   \n",
       "50%     15.500000    0.000000    1.000000    0.000000    0.000000    0.000000   \n",
       "75%     55.000000    1.000000    1.000000    0.000000    0.000000    0.000000   \n",
       "max     88.000000    1.000000    1.000000    1.000000    1.000000    1.000000   \n",
       "\n",
       "          cad_tvd     cad_vsd      os_asd  other_heart  ...  transferred  \\\n",
       "count  248.000000  248.000000  248.000000   248.000000  ...   248.000000   \n",
       "mean     0.096774    0.004032    0.060484     0.221774  ...     0.016129   \n",
       "std      0.296248    0.063500    0.238863     0.416280  ...     0.126227   \n",
       "min      0.000000    0.000000    0.000000     0.000000  ...     0.000000   \n",
       "25%      0.000000    0.000000    0.000000     0.000000  ...     0.000000   \n",
       "50%      0.000000    0.000000    0.000000     0.000000  ...     0.000000   \n",
       "75%      0.000000    0.000000    0.000000     0.000000  ...     0.000000   \n",
       "max      1.000000    1.000000    1.000000     1.000000  ...     1.000000   \n",
       "\n",
       "            alert    elective  total_cost_to_hospital  ln_total_cost  \\\n",
       "count  248.000000  248.000000              248.000000     248.000000   \n",
       "mean     0.995968    0.870968           198723.330282      12.062084   \n",
       "std      0.063500    0.335914           122587.492984       0.505390   \n",
       "min      0.000000    0.000000            46093.000000      10.738416   \n",
       "25%      1.000000    1.000000           131652.750000      11.787923   \n",
       "50%      1.000000    1.000000           162660.500000      11.999419   \n",
       "75%      1.000000    1.000000           220614.000000      12.304170   \n",
       "max      1.000000    1.000000           887350.000000      13.695995   \n",
       "\n",
       "       total_length_of_stay  length_of_stay___icu  length_of_stay__ward  \\\n",
       "count            248.000000            248.000000            248.000000   \n",
       "mean              11.612903              3.475806              8.153226   \n",
       "std                5.392617              3.853520              3.755793   \n",
       "min                3.000000              0.000000              0.000000   \n",
       "25%                8.000000              1.000000              6.000000   \n",
       "50%               10.000000              2.000000              7.000000   \n",
       "75%               13.000000              4.000000             10.000000   \n",
       "max               41.000000             30.000000             22.000000   \n",
       "\n",
       "          implant  cost_of_implant  \n",
       "count  248.000000       248.000000  \n",
       "mean     0.197581      8544.201613  \n",
       "std      0.398979     21521.877503  \n",
       "min      0.000000         0.000000  \n",
       "25%      0.000000         0.000000  \n",
       "50%      0.000000         0.000000  \n",
       "75%      0.000000         0.000000  \n",
       "max      1.000000    196848.000000  \n",
       "\n",
       "[8 rows x 42 columns]"
      ]
     },
     "execution_count": 62,
     "metadata": {},
     "output_type": "execute_result"
    }
   ],
   "source": [
    "df.describe()"
   ]
  },
  {
   "cell_type": "code",
   "execution_count": 63,
   "metadata": {},
   "outputs": [
    {
     "data": {
      "text/plain": [
       "0    166\n",
       "1     82\n",
       "Name: male, dtype: int64"
      ]
     },
     "execution_count": 63,
     "metadata": {},
     "output_type": "execute_result"
    }
   ],
   "source": [
    "df.male.value_counts()"
   ]
  },
  {
   "cell_type": "code",
   "execution_count": 64,
   "metadata": {},
   "outputs": [
    {
     "data": {
      "text/plain": [
       "<matplotlib.axes._subplots.AxesSubplot at 0x1fd401d5948>"
      ]
     },
     "execution_count": 64,
     "metadata": {},
     "output_type": "execute_result"
    },
    {
     "data": {
      "image/png": "[encoded data removed]",
      "text/plain": [
       "<Figure size 432x288 with 1 Axes>"
      ]
     },
     "metadata": {
      "needs_background": "light"
     },
     "output_type": "display_data"
    }
   ],
   "source": [
    "#Female population are 50% more than Male\n",
    "df.male.value_counts().plot.bar()"
   ]
  },
  {
   "cell_type": "code",
   "execution_count": 65,
   "metadata": {},
   "outputs": [
    {
     "data": {
      "text/plain": [
       "count    248.000000\n",
       "mean      28.879837\n",
       "std       25.899359\n",
       "min        0.032877\n",
       "25%        6.000000\n",
       "50%       15.500000\n",
       "75%       55.000000\n",
       "max       88.000000\n",
       "Name: age, dtype: float64"
      ]
     },
     "execution_count": 65,
     "metadata": {},
     "output_type": "execute_result"
    }
   ],
   "source": [
    "df.age.describe()"
   ]
  },
  {
   "cell_type": "markdown",
   "metadata": {},
   "source": [
    "Average age is 28. Min is 0.03 and Max is 88. Median being 15, the data seems to be right skewed"
   ]
  },
  {
   "cell_type": "code",
   "execution_count": 66,
   "metadata": {},
   "outputs": [
    {
     "data": {
      "text/plain": [
       "<matplotlib.axes._subplots.AxesSubplot at 0x1fd3ecff9c8>"
      ]
     },
     "execution_count": 66,
     "metadata": {},
     "output_type": "execute_result"
    },
    {
     "data": {
      "image/png": "[encoded data removed]",
      "text/plain": [
       "<Figure size 432x288 with 1 Axes>"
      ]
     },
     "metadata": {
      "needs_background": "light"
     },
     "output_type": "display_data"
    }
   ],
   "source": [
    "df.age.plot.density()"
   ]
  },
  {
   "cell_type": "code",
   "execution_count": 67,
   "metadata": {},
   "outputs": [
    {
     "data": {
      "text/plain": [
       "1    140\n",
       "0    108\n",
       "Name: unmarried, dtype: int64"
      ]
     },
     "execution_count": 67,
     "metadata": {},
     "output_type": "execute_result"
    }
   ],
   "source": [
    "df.unmarried.value_counts()"
   ]
  },
  {
   "cell_type": "markdown",
   "metadata": {},
   "source": [
    "More Unmarried than married"
   ]
  },
  {
   "cell_type": "code",
   "execution_count": 68,
   "metadata": {},
   "outputs": [
    {
     "data": {
      "text/plain": [
       "<matplotlib.axes._subplots.AxesSubplot at 0x1fd40303608>"
      ]
     },
     "execution_count": 68,
     "metadata": {},
     "output_type": "execute_result"
    },
    {
     "data": {
      "image/png": "[encoded data removed]",
      "text/plain": [
       "<Figure size 432x288 with 1 Axes>"
      ]
     },
     "metadata": {
      "needs_background": "light"
     },
     "output_type": "display_data"
    }
   ],
   "source": [
    "df.unmarried.value_counts().plot.bar()"
   ]
  },
  {
   "cell_type": "code",
   "execution_count": 69,
   "metadata": {},
   "outputs": [
    {
     "data": {
      "text/plain": [
       "0    229\n",
       "1     19\n",
       "Name: achd, dtype: int64"
      ]
     },
     "execution_count": 69,
     "metadata": {},
     "output_type": "execute_result"
    }
   ],
   "source": [
    "df.achd.value_counts()"
   ]
  },
  {
   "cell_type": "code",
   "execution_count": 70,
   "metadata": {},
   "outputs": [
    {
     "data": {
      "text/plain": [
       "0    221\n",
       "1     27\n",
       "Name: cad_dvd, dtype: int64"
      ]
     },
     "execution_count": 70,
     "metadata": {},
     "output_type": "execute_result"
    }
   ],
   "source": [
    "df.cad_dvd.value_counts()"
   ]
  },
  {
   "cell_type": "code",
   "execution_count": 71,
   "metadata": {},
   "outputs": [
    {
     "data": {
      "text/plain": [
       "0    246\n",
       "1      2\n",
       "Name: cad_svd, dtype: int64"
      ]
     },
     "execution_count": 71,
     "metadata": {},
     "output_type": "execute_result"
    }
   ],
   "source": [
    "df.cad_svd.value_counts()"
   ]
  },
  {
   "cell_type": "markdown",
   "metadata": {},
   "source": [
    "Very Negligable number of records for cad_svd"
   ]
  },
  {
   "cell_type": "code",
   "execution_count": 72,
   "metadata": {},
   "outputs": [
    {
     "data": {
      "text/plain": [
       "0    224\n",
       "1     24\n",
       "Name: cad_tvd, dtype: int64"
      ]
     },
     "execution_count": 72,
     "metadata": {},
     "output_type": "execute_result"
    }
   ],
   "source": [
    "df.cad_tvd.value_counts()"
   ]
  },
  {
   "cell_type": "code",
   "execution_count": 73,
   "metadata": {},
   "outputs": [
    {
     "data": {
      "text/plain": [
       "0    247\n",
       "1      1\n",
       "Name: cad_vsd, dtype: int64"
      ]
     },
     "execution_count": 73,
     "metadata": {},
     "output_type": "execute_result"
    }
   ],
   "source": [
    "df.cad_vsd.value_counts()"
   ]
  },
  {
   "cell_type": "markdown",
   "metadata": {},
   "source": [
    "Very negligable number of records for cad_vsd"
   ]
  },
  {
   "cell_type": "code",
   "execution_count": 74,
   "metadata": {},
   "outputs": [
    {
     "data": {
      "text/plain": [
       "0    233\n",
       "1     15\n",
       "Name: os_asd, dtype: int64"
      ]
     },
     "execution_count": 74,
     "metadata": {},
     "output_type": "execute_result"
    }
   ],
   "source": [
    "df.os_asd.value_counts()"
   ]
  },
  {
   "cell_type": "code",
   "execution_count": 75,
   "metadata": {},
   "outputs": [
    {
     "data": {
      "text/plain": [
       "0    193\n",
       "1     55\n",
       "Name: other_heart, dtype: int64"
      ]
     },
     "execution_count": 75,
     "metadata": {},
     "output_type": "execute_result"
    }
   ],
   "source": [
    "df.other_heart.value_counts()"
   ]
  },
  {
   "cell_type": "code",
   "execution_count": 76,
   "metadata": {},
   "outputs": [
    {
     "data": {
      "text/plain": [
       "0    233\n",
       "1     15\n",
       "Name: other_respiratory, dtype: int64"
      ]
     },
     "execution_count": 76,
     "metadata": {},
     "output_type": "execute_result"
    }
   ],
   "source": [
    "df.other_respiratory.value_counts()"
   ]
  },
  {
   "cell_type": "code",
   "execution_count": 77,
   "metadata": {},
   "outputs": [
    {
     "data": {
      "text/plain": [
       "0    247\n",
       "1      1\n",
       "Name: other_general, dtype: int64"
      ]
     },
     "execution_count": 77,
     "metadata": {},
     "output_type": "execute_result"
    }
   ],
   "source": [
    "df.other_general.value_counts()"
   ]
  },
  {
   "cell_type": "markdown",
   "metadata": {},
   "source": [
    "Very negligable number of records for other_general"
   ]
  },
  {
   "cell_type": "code",
   "execution_count": 78,
   "metadata": {},
   "outputs": [
    {
     "data": {
      "text/plain": [
       "0    245\n",
       "1      3\n",
       "Name: other_nervous, dtype: int64"
      ]
     },
     "execution_count": 78,
     "metadata": {},
     "output_type": "execute_result"
    }
   ],
   "source": [
    "df.other_nervous.value_counts()"
   ]
  },
  {
   "cell_type": "markdown",
   "metadata": {},
   "source": [
    "Very negligable number of records for other_nervous"
   ]
  },
  {
   "cell_type": "code",
   "execution_count": 79,
   "metadata": {},
   "outputs": [
    {
     "data": {
      "text/plain": [
       "0    230\n",
       "1     18\n",
       "Name: other_tertalogy, dtype: int64"
      ]
     },
     "execution_count": 79,
     "metadata": {},
     "output_type": "execute_result"
    }
   ],
   "source": [
    "df.other_tertalogy.value_counts()"
   ]
  },
  {
   "cell_type": "code",
   "execution_count": 80,
   "metadata": {},
   "outputs": [
    {
     "data": {
      "text/plain": [
       "0    242\n",
       "1      6\n",
       "Name: pm_vsd, dtype: int64"
      ]
     },
     "execution_count": 80,
     "metadata": {},
     "output_type": "execute_result"
    }
   ],
   "source": [
    "df.pm_vsd.value_counts()"
   ]
  },
  {
   "cell_type": "code",
   "execution_count": 81,
   "metadata": {},
   "outputs": [
    {
     "data": {
      "text/plain": [
       "0    222\n",
       "1     26\n",
       "Name: rhd, dtype: int64"
      ]
     },
     "execution_count": 81,
     "metadata": {},
     "output_type": "execute_result"
    }
   ],
   "source": [
    "df.rhd.value_counts()"
   ]
  },
  {
   "cell_type": "markdown",
   "metadata": {},
   "source": [
    "We drop the features which are insignificant"
   ]
  },
  {
   "cell_type": "code",
   "execution_count": 82,
   "metadata": {},
   "outputs": [
    {
     "data": {
      "text/html": [
       "<div>\n",
       "<style scoped>\n",
       "    .dataframe tbody tr th:only-of-type {\n",
       "        vertical-align: middle;\n",
       "    }\n",
       "\n",
       "    .dataframe tbody tr th {\n",
       "        vertical-align: top;\n",
       "    }\n",
       "\n",
       "    .dataframe thead th {\n",
       "        text-align: right;\n",
       "    }\n",
       "</style>\n",
       "<table border=\"1\" class=\"dataframe\">\n",
       "  <thead>\n",
       "    <tr style=\"text-align: right;\">\n",
       "      <th></th>\n",
       "      <th>age</th>\n",
       "      <th>male</th>\n",
       "      <th>unmarried</th>\n",
       "      <th>achd</th>\n",
       "      <th>cad_dvd</th>\n",
       "      <th>cad_tvd</th>\n",
       "      <th>os_asd</th>\n",
       "      <th>other_heart</th>\n",
       "      <th>other_respiratory</th>\n",
       "      <th>other_tertalogy</th>\n",
       "      <th>...</th>\n",
       "      <th>transferred</th>\n",
       "      <th>alert</th>\n",
       "      <th>elective</th>\n",
       "      <th>total_cost_to_hospital</th>\n",
       "      <th>ln_total_cost</th>\n",
       "      <th>total_length_of_stay</th>\n",
       "      <th>length_of_stay___icu</th>\n",
       "      <th>length_of_stay__ward</th>\n",
       "      <th>implant</th>\n",
       "      <th>cost_of_implant</th>\n",
       "    </tr>\n",
       "  </thead>\n",
       "  <tbody>\n",
       "    <tr>\n",
       "      <td>0</td>\n",
       "      <td>58.0</td>\n",
       "      <td>0</td>\n",
       "      <td>0</td>\n",
       "      <td>0</td>\n",
       "      <td>0</td>\n",
       "      <td>0</td>\n",
       "      <td>0</td>\n",
       "      <td>1</td>\n",
       "      <td>0</td>\n",
       "      <td>0</td>\n",
       "      <td>...</td>\n",
       "      <td>0</td>\n",
       "      <td>1</td>\n",
       "      <td>0</td>\n",
       "      <td>660293.0</td>\n",
       "      <td>13.400439</td>\n",
       "      <td>25</td>\n",
       "      <td>12</td>\n",
       "      <td>13</td>\n",
       "      <td>1</td>\n",
       "      <td>38000</td>\n",
       "    </tr>\n",
       "    <tr>\n",
       "      <td>1</td>\n",
       "      <td>59.0</td>\n",
       "      <td>0</td>\n",
       "      <td>0</td>\n",
       "      <td>0</td>\n",
       "      <td>1</td>\n",
       "      <td>0</td>\n",
       "      <td>0</td>\n",
       "      <td>0</td>\n",
       "      <td>0</td>\n",
       "      <td>0</td>\n",
       "      <td>...</td>\n",
       "      <td>0</td>\n",
       "      <td>1</td>\n",
       "      <td>0</td>\n",
       "      <td>809130.0</td>\n",
       "      <td>13.603715</td>\n",
       "      <td>41</td>\n",
       "      <td>20</td>\n",
       "      <td>21</td>\n",
       "      <td>1</td>\n",
       "      <td>39690</td>\n",
       "    </tr>\n",
       "    <tr>\n",
       "      <td>2</td>\n",
       "      <td>82.0</td>\n",
       "      <td>0</td>\n",
       "      <td>0</td>\n",
       "      <td>0</td>\n",
       "      <td>0</td>\n",
       "      <td>1</td>\n",
       "      <td>0</td>\n",
       "      <td>0</td>\n",
       "      <td>0</td>\n",
       "      <td>0</td>\n",
       "      <td>...</td>\n",
       "      <td>0</td>\n",
       "      <td>1</td>\n",
       "      <td>1</td>\n",
       "      <td>362231.0</td>\n",
       "      <td>12.800037</td>\n",
       "      <td>18</td>\n",
       "      <td>9</td>\n",
       "      <td>9</td>\n",
       "      <td>0</td>\n",
       "      <td>0</td>\n",
       "    </tr>\n",
       "    <tr>\n",
       "      <td>3</td>\n",
       "      <td>46.0</td>\n",
       "      <td>0</td>\n",
       "      <td>0</td>\n",
       "      <td>0</td>\n",
       "      <td>1</td>\n",
       "      <td>0</td>\n",
       "      <td>0</td>\n",
       "      <td>0</td>\n",
       "      <td>0</td>\n",
       "      <td>0</td>\n",
       "      <td>...</td>\n",
       "      <td>0</td>\n",
       "      <td>1</td>\n",
       "      <td>0</td>\n",
       "      <td>629990.0</td>\n",
       "      <td>13.353459</td>\n",
       "      <td>14</td>\n",
       "      <td>13</td>\n",
       "      <td>1</td>\n",
       "      <td>1</td>\n",
       "      <td>89450</td>\n",
       "    </tr>\n",
       "    <tr>\n",
       "      <td>4</td>\n",
       "      <td>60.0</td>\n",
       "      <td>0</td>\n",
       "      <td>0</td>\n",
       "      <td>0</td>\n",
       "      <td>1</td>\n",
       "      <td>0</td>\n",
       "      <td>0</td>\n",
       "      <td>0</td>\n",
       "      <td>0</td>\n",
       "      <td>0</td>\n",
       "      <td>...</td>\n",
       "      <td>0</td>\n",
       "      <td>1</td>\n",
       "      <td>0</td>\n",
       "      <td>444876.0</td>\n",
       "      <td>13.005551</td>\n",
       "      <td>24</td>\n",
       "      <td>12</td>\n",
       "      <td>12</td>\n",
       "      <td>0</td>\n",
       "      <td>0</td>\n",
       "    </tr>\n",
       "    <tr>\n",
       "      <td>...</td>\n",
       "      <td>...</td>\n",
       "      <td>...</td>\n",
       "      <td>...</td>\n",
       "      <td>...</td>\n",
       "      <td>...</td>\n",
       "      <td>...</td>\n",
       "      <td>...</td>\n",
       "      <td>...</td>\n",
       "      <td>...</td>\n",
       "      <td>...</td>\n",
       "      <td>...</td>\n",
       "      <td>...</td>\n",
       "      <td>...</td>\n",
       "      <td>...</td>\n",
       "      <td>...</td>\n",
       "      <td>...</td>\n",
       "      <td>...</td>\n",
       "      <td>...</td>\n",
       "      <td>...</td>\n",
       "      <td>...</td>\n",
       "      <td>...</td>\n",
       "    </tr>\n",
       "    <tr>\n",
       "      <td>243</td>\n",
       "      <td>51.0</td>\n",
       "      <td>0</td>\n",
       "      <td>0</td>\n",
       "      <td>0</td>\n",
       "      <td>0</td>\n",
       "      <td>0</td>\n",
       "      <td>0</td>\n",
       "      <td>1</td>\n",
       "      <td>0</td>\n",
       "      <td>0</td>\n",
       "      <td>...</td>\n",
       "      <td>0</td>\n",
       "      <td>1</td>\n",
       "      <td>1</td>\n",
       "      <td>295155.0</td>\n",
       "      <td>12.595256</td>\n",
       "      <td>10</td>\n",
       "      <td>3</td>\n",
       "      <td>7</td>\n",
       "      <td>1</td>\n",
       "      <td>35000</td>\n",
       "    </tr>\n",
       "    <tr>\n",
       "      <td>244</td>\n",
       "      <td>58.0</td>\n",
       "      <td>0</td>\n",
       "      <td>0</td>\n",
       "      <td>0</td>\n",
       "      <td>0</td>\n",
       "      <td>1</td>\n",
       "      <td>0</td>\n",
       "      <td>0</td>\n",
       "      <td>0</td>\n",
       "      <td>0</td>\n",
       "      <td>...</td>\n",
       "      <td>0</td>\n",
       "      <td>1</td>\n",
       "      <td>1</td>\n",
       "      <td>200321.0</td>\n",
       "      <td>12.207676</td>\n",
       "      <td>11</td>\n",
       "      <td>2</td>\n",
       "      <td>9</td>\n",
       "      <td>1</td>\n",
       "      <td>26000</td>\n",
       "    </tr>\n",
       "    <tr>\n",
       "      <td>245</td>\n",
       "      <td>44.0</td>\n",
       "      <td>0</td>\n",
       "      <td>0</td>\n",
       "      <td>0</td>\n",
       "      <td>0</td>\n",
       "      <td>1</td>\n",
       "      <td>0</td>\n",
       "      <td>0</td>\n",
       "      <td>0</td>\n",
       "      <td>0</td>\n",
       "      <td>...</td>\n",
       "      <td>0</td>\n",
       "      <td>1</td>\n",
       "      <td>1</td>\n",
       "      <td>191188.0</td>\n",
       "      <td>12.161013</td>\n",
       "      <td>13</td>\n",
       "      <td>5</td>\n",
       "      <td>8</td>\n",
       "      <td>0</td>\n",
       "      <td>0</td>\n",
       "    </tr>\n",
       "    <tr>\n",
       "      <td>246</td>\n",
       "      <td>60.0</td>\n",
       "      <td>0</td>\n",
       "      <td>0</td>\n",
       "      <td>0</td>\n",
       "      <td>0</td>\n",
       "      <td>0</td>\n",
       "      <td>0</td>\n",
       "      <td>1</td>\n",
       "      <td>0</td>\n",
       "      <td>0</td>\n",
       "      <td>...</td>\n",
       "      <td>0</td>\n",
       "      <td>1</td>\n",
       "      <td>0</td>\n",
       "      <td>202807.0</td>\n",
       "      <td>12.220010</td>\n",
       "      <td>9</td>\n",
       "      <td>6</td>\n",
       "      <td>3</td>\n",
       "      <td>0</td>\n",
       "      <td>0</td>\n",
       "    </tr>\n",
       "    <tr>\n",
       "      <td>247</td>\n",
       "      <td>30.0</td>\n",
       "      <td>0</td>\n",
       "      <td>0</td>\n",
       "      <td>0</td>\n",
       "      <td>0</td>\n",
       "      <td>0</td>\n",
       "      <td>0</td>\n",
       "      <td>0</td>\n",
       "      <td>0</td>\n",
       "      <td>0</td>\n",
       "      <td>...</td>\n",
       "      <td>0</td>\n",
       "      <td>1</td>\n",
       "      <td>1</td>\n",
       "      <td>248112.0</td>\n",
       "      <td>12.421636</td>\n",
       "      <td>10</td>\n",
       "      <td>4</td>\n",
       "      <td>6</td>\n",
       "      <td>1</td>\n",
       "      <td>41800</td>\n",
       "    </tr>\n",
       "  </tbody>\n",
       "</table>\n",
       "<p>248 rows × 38 columns</p>\n",
       "</div>"
      ],
      "text/plain": [
       "      age  male  unmarried  achd  cad_dvd  cad_tvd  os_asd  other_heart  \\\n",
       "0    58.0     0          0     0        0        0       0            1   \n",
       "1    59.0     0          0     0        1        0       0            0   \n",
       "2    82.0     0          0     0        0        1       0            0   \n",
       "3    46.0     0          0     0        1        0       0            0   \n",
       "4    60.0     0          0     0        1        0       0            0   \n",
       "..    ...   ...        ...   ...      ...      ...     ...          ...   \n",
       "243  51.0     0          0     0        0        0       0            1   \n",
       "244  58.0     0          0     0        0        1       0            0   \n",
       "245  44.0     0          0     0        0        1       0            0   \n",
       "246  60.0     0          0     0        0        0       0            1   \n",
       "247  30.0     0          0     0        0        0       0            0   \n",
       "\n",
       "     other_respiratory  other_tertalogy  ...  transferred  alert  elective  \\\n",
       "0                    0                0  ...            0      1         0   \n",
       "1                    0                0  ...            0      1         0   \n",
       "2                    0                0  ...            0      1         1   \n",
       "3                    0                0  ...            0      1         0   \n",
       "4                    0                0  ...            0      1         0   \n",
       "..                 ...              ...  ...          ...    ...       ...   \n",
       "243                  0                0  ...            0      1         1   \n",
       "244                  0                0  ...            0      1         1   \n",
       "245                  0                0  ...            0      1         1   \n",
       "246                  0                0  ...            0      1         0   \n",
       "247                  0                0  ...            0      1         1   \n",
       "\n",
       "     total_cost_to_hospital  ln_total_cost  total_length_of_stay  \\\n",
       "0                  660293.0      13.400439                    25   \n",
       "1                  809130.0      13.603715                    41   \n",
       "2                  362231.0      12.800037                    18   \n",
       "3                  629990.0      13.353459                    14   \n",
       "4                  444876.0      13.005551                    24   \n",
       "..                      ...            ...                   ...   \n",
       "243                295155.0      12.595256                    10   \n",
       "244                200321.0      12.207676                    11   \n",
       "245                191188.0      12.161013                    13   \n",
       "246                202807.0      12.220010                     9   \n",
       "247                248112.0      12.421636                    10   \n",
       "\n",
       "     length_of_stay___icu  length_of_stay__ward  implant  cost_of_implant  \n",
       "0                      12                    13        1            38000  \n",
       "1                      20                    21        1            39690  \n",
       "2                       9                     9        0                0  \n",
       "3                      13                     1        1            89450  \n",
       "4                      12                    12        0                0  \n",
       "..                    ...                   ...      ...              ...  \n",
       "243                     3                     7        1            35000  \n",
       "244                     2                     9        1            26000  \n",
       "245                     5                     8        0                0  \n",
       "246                     6                     3        0                0  \n",
       "247                     4                     6        1            41800  \n",
       "\n",
       "[248 rows x 38 columns]"
      ]
     },
     "execution_count": 82,
     "metadata": {},
     "output_type": "execute_result"
    }
   ],
   "source": [
    "df.drop(['cad_svd','cad_vsd','other_nervous','other_general'], axis=1)"
   ]
  },
  {
   "cell_type": "code",
   "execution_count": 83,
   "metadata": {},
   "outputs": [
    {
     "data": {
      "text/plain": [
       "(248, 42)"
      ]
     },
     "execution_count": 83,
     "metadata": {},
     "output_type": "execute_result"
    }
   ],
   "source": [
    "df.shape"
   ]
  },
  {
   "cell_type": "code",
   "execution_count": 84,
   "metadata": {},
   "outputs": [
    {
     "data": {
      "text/plain": [
       "count    248.000000\n",
       "mean      37.524677\n",
       "std       23.118822\n",
       "min        2.020000\n",
       "25%       15.000000\n",
       "50%       40.900000\n",
       "75%       58.250000\n",
       "max       85.000000\n",
       "Name: body_weight, dtype: float64"
      ]
     },
     "execution_count": 84,
     "metadata": {},
     "output_type": "execute_result"
    }
   ],
   "source": [
    "df.body_weight.describe()"
   ]
  },
  {
   "cell_type": "code",
   "execution_count": 85,
   "metadata": {},
   "outputs": [
    {
     "data": {
      "text/plain": [
       "<matplotlib.axes._subplots.AxesSubplot at 0x1fd40387d48>"
      ]
     },
     "execution_count": 85,
     "metadata": {},
     "output_type": "execute_result"
    },
    {
     "data": {
      "image/png": "[encoded data removed]",
      "text/plain": [
       "<Figure size 432x288 with 1 Axes>"
      ]
     },
     "metadata": {
      "needs_background": "light"
     },
     "output_type": "display_data"
    }
   ],
   "source": [
    "df.body_weight.plot.density()"
   ]
  },
  {
   "cell_type": "code",
   "execution_count": 86,
   "metadata": {},
   "outputs": [
    {
     "data": {
      "text/plain": [
       "(248, 43)"
      ]
     },
     "execution_count": 86,
     "metadata": {},
     "output_type": "execute_result"
    }
   ],
   "source": [
    "#Combine weight and height to form bmi and drop the weight and height variables\n",
    "df['bmi'] = df.body_weight / (df.body_height * df.body_height)* 10000\n",
    "df.drop(['body_weight','body_height'], axis=1)\n",
    "df.shape"
   ]
  },
  {
   "cell_type": "markdown",
   "metadata": {},
   "source": [
    "Export the dataframe into a csv file"
   ]
  },
  {
   "cell_type": "code",
   "execution_count": 88,
   "metadata": {},
   "outputs": [],
   "source": [
    "df.to_csv('treated_data.csv', index = False)"
   ]
  },
  {
   "cell_type": "code",
   "execution_count": 89,
   "metadata": {},
   "outputs": [
    {
     "name": "stdout",
     "output_type": "stream",
     "text": [
      "<class 'pandas.core.frame.DataFrame'>\n",
      "RangeIndex: 248 entries, 0 to 247\n",
      "Data columns (total 43 columns):\n",
      "age                       248 non-null float64\n",
      "male                      248 non-null int64\n",
      "unmarried                 248 non-null int64\n",
      "achd                      248 non-null int64\n",
      "cad_dvd                   248 non-null int64\n",
      "cad_svd                   248 non-null int64\n",
      "cad_tvd                   248 non-null int64\n",
      "cad_vsd                   248 non-null int64\n",
      "os_asd                    248 non-null int64\n",
      "other_heart               248 non-null int64\n",
      "other_respiratory         248 non-null int64\n",
      "other_general             248 non-null int64\n",
      "other_nervous             248 non-null int64\n",
      "other_tertalogy           248 non-null int64\n",
      "pm_vsd                    248 non-null int64\n",
      "rhd                       248 non-null int64\n",
      "body_weight               248 non-null float64\n",
      "body_height               248 non-null int64\n",
      "hr_pulse                  248 non-null int64\n",
      "bp_high                   225 non-null float64\n",
      "bp_low                    225 non-null float64\n",
      "rr                        248 non-null int64\n",
      "diabetes1                 248 non-null int64\n",
      "diabetes2                 248 non-null int64\n",
      "hypertension1             248 non-null int64\n",
      "hypertension2             248 non-null int64\n",
      "hypertension3             248 non-null int64\n",
      "other                     248 non-null int64\n",
      "hb                        246 non-null float64\n",
      "urea                      235 non-null float64\n",
      "creatinine                215 non-null float64\n",
      "ambulance                 248 non-null int64\n",
      "transferred               248 non-null int64\n",
      "alert                     248 non-null int64\n",
      "elective                  248 non-null int64\n",
      "total_cost_to_hospital    248 non-null float64\n",
      "ln_total_cost             248 non-null float64\n",
      "total_length_of_stay      248 non-null int64\n",
      "length_of_stay___icu      248 non-null int64\n",
      "length_of_stay__ward      248 non-null int64\n",
      "implant                   248 non-null int64\n",
      "cost_of_implant           248 non-null int64\n",
      "bmi                       248 non-null float64\n",
      "dtypes: float64(10), int64(33)\n",
      "memory usage: 83.4 KB\n"
     ]
    }
   ],
   "source": [
    "df.info()"
   ]
  },
  {
   "cell_type": "code",
   "execution_count": 90,
   "metadata": {},
   "outputs": [
    {
     "data": {
      "text/plain": [
       "0      118\n",
       "1       78\n",
       "2      100\n",
       "3      122\n",
       "4       72\n",
       "      ... \n",
       "243     62\n",
       "244     58\n",
       "245     68\n",
       "246     98\n",
       "247     87\n",
       "Name: hr_pulse, Length: 248, dtype: int64"
      ]
     },
     "execution_count": 90,
     "metadata": {},
     "output_type": "execute_result"
    }
   ],
   "source": [
    "df.hr_pulse"
   ]
  },
  {
   "cell_type": "code",
   "execution_count": null,
   "metadata": {},
   "outputs": [],
   "source": []
  }
 ],
 "metadata": {
  "kernelspec": {
   "display_name": "Python 3",
   "language": "python",
   "name": "python3"
  },
  "language_info": {
   "codemirror_mode": {
    "name": "ipython",
    "version": 3
   },
   "file_extension": ".py",
   "mimetype": "text/x-python",
   "name": "python",
   "nbconvert_exporter": "python",
   "pygments_lexer": "ipython3",
   "version": "3.7.4"
  }
 },
 "nbformat": 4,
 "nbformat_minor": 2
}
